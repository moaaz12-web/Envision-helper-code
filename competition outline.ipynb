{
 "cells": [
  {
   "cell_type": "markdown",
   "id": "d1698395-f855-4491-bfe7-efa1a9b01308",
   "metadata": {},
   "source": [
    "# OUTLINE"
   ]
  },
  {
   "cell_type": "markdown",
   "id": "6c01df9b-7bd1-48e3-bab0-c3d535e47d14",
   "metadata": {},
   "source": [
    "## DROPPING MISSING VALUES & DUPLICATE ROWS"
   ]
  },
  {
   "cell_type": "code",
   "execution_count": null,
   "id": "2b9c37a8-0876-4614-a0f3-e662d3766447",
   "metadata": {},
   "outputs": [],
   "source": [
    "df.dropna(inplace=True)\n",
    "df.drop_duplicates(inplace=True)"
   ]
  },
  {
   "cell_type": "markdown",
   "id": "3b90f6f0-e927-458b-9b4a-a9a1fcea1bad",
   "metadata": {},
   "source": [
    "## K-FOLD SPLIT OR TRAIN-TEST-SPLIT\n",
    "**Note to self, do this before any sort of transformations!**"
   ]
  },
  {
   "cell_type": "code",
   "execution_count": null,
   "id": "eab9d843-532c-4c0a-a0d0-4ecaeef14a89",
   "metadata": {},
   "outputs": [],
   "source": [
    "from sklearn.model_selection import train_test_split\n",
    "X_train, X_test, y_train, y_test = train_test_split(X,y, test_size=0.25, random_state=42)"
   ]
  },
  {
   "cell_type": "markdown",
   "id": "9a9c0c9a-219e-4ccd-b839-6db56cba4be7",
   "metadata": {},
   "source": [
    "## HANDLING CLASS IMBALANCE USING SMOTE"
   ]
  },
  {
   "cell_type": "code",
   "execution_count": null,
   "id": "0710e215-87f9-474e-975a-8d0d46bccd4a",
   "metadata": {},
   "outputs": [],
   "source": [
    "! pip install imbalanced-learn\n",
    "import imblearn\n",
    "from imblearn.over_sampling import SMOTE\n",
    "from imblearn.under_sampling import RandomUnderSampler\n",
    "from imblearn.pipeline import Pipeline\n",
    "\n",
    "over = SMOTE(sampling_strategy=0.1)\n",
    "under = RandomUnderSampler(sampling_strategy=0.5)\n",
    "steps = [('o', over), ('u', under)]\n",
    "pipeline = Pipeline(steps=steps)\n",
    "# transform the dataset\n",
    "X, y = pipeline.fit_resample(X, y)\n",
    "\n"
   ]
  },
  {
   "cell_type": "markdown",
   "id": "60463528-5874-4eaa-be57-c53d3b95212d",
   "metadata": {},
   "source": [
    "## DROPPING NON-CORRELATED FEATURES"
   ]
  },
  {
   "cell_type": "code",
   "execution_count": null,
   "id": "deff9e64-4b99-475f-a809-4594ce5403bd",
   "metadata": {},
   "outputs": [],
   "source": [
    "def correlation(dataset, threshold):\n",
    "    col_corr = set()  # Set of all the names of correlated columns\n",
    "    corr_matrix = dataset.corr()\n",
    "    for i in range(len(corr_matrix.columns)):\n",
    "        for j in range(i):\n",
    "            if abs(corr_matrix.iloc[i, j]) > threshold: # we are interested in absolute coeff value\n",
    "                colname = corr_matrix.columns[i]  # getting the name of column\n",
    "                col_corr.add(colname)\n",
    "    return col_corr\n",
    "\n",
    "\n",
    "corr_features = correlation(df, 0.8)\n",
    "len(set(corr_features))\n",
    "\n",
    "# Drop the columns stored in the corr_features\n",
    "df.drop(corr_features,axis=1, inplace=True)\n"
   ]
  },
  {
   "cell_type": "markdown",
   "id": "957e047a-85da-450c-9436-05f25347d7d3",
   "metadata": {},
   "source": [
    "## LABEL ENCODING"
   ]
  },
  {
   "cell_type": "code",
   "execution_count": null,
   "id": "be6917bc-e5f5-4057-bae0-9cb4b38caa3c",
   "metadata": {},
   "outputs": [],
   "source": [
    "from sklearn.preprocessing import LabelEncoder\n",
    "le = LabelEncoder()\n",
    "le.fit()\n",
    "y_train_transformed = le.transform(y_train)\n",
    "y_test_transformed = le.transform(y_test)\n",
    "# le.classes_"
   ]
  },
  {
   "cell_type": "markdown",
   "id": "6f08ff3f-ff78-42d4-9ee5-a4205d68c24b",
   "metadata": {
    "tags": []
   },
   "source": [
    "## ONE-HOT ENCODING AND ORDINAL ENCODING"
   ]
  },
  {
   "cell_type": "markdown",
   "id": "479e3b3c-5cc4-4bb1-a471-7b3937ec7230",
   "metadata": {},
   "source": [
    "### ORDINAL ENCODING "
   ]
  },
  {
   "cell_type": "code",
   "execution_count": null,
   "id": "0e56b60f-6064-4fdb-8135-3d679756a4a8",
   "metadata": {},
   "outputs": [],
   "source": [
    "# return_df=True"
   ]
  },
  {
   "cell_type": "code",
   "execution_count": null,
   "id": "d94d35e1-dc22-4a60-960c-8bd3cee5c318",
   "metadata": {},
   "outputs": [],
   "source": [
    "from sklearn.preprocessing import LabelEncoder\n",
    "\n",
    "# Ordinalencoding -> cough\n",
    "oe = OrdinalEncoder(categories=[['Mild','Strong']])\n",
    "X_train_cough = oe.fit_transform(X_train[['cough']])\n",
    "\n",
    "# also the test data\n",
    "X_test_cough = oe.fit_transform(X_test[['cough']])\n",
    "\n",
    "X_train_cough.shape"
   ]
  },
  {
   "cell_type": "markdown",
   "id": "7b751aac-bab2-4798-8b24-67ab3d0acb1a",
   "metadata": {},
   "source": [
    "### ONE-HOT ENCODING"
   ]
  },
  {
   "cell_type": "code",
   "execution_count": null,
   "id": "953db9dd-97ff-4887-bfe6-8e6c7ed8efd7",
   "metadata": {},
   "outputs": [],
   "source": [
    "from sklearn.preprocessing import OneHotEncoder\n",
    "\n",
    "# OneHotEncoding -> gender,city\n",
    "# ohe = OneHotEncoder(drop='first',dtype=np.int32)\n",
    "ohe = OneHotEncoder(drop='first',sparse=False)\n",
    "\n",
    "X_train_gender_city = ohe.fit_transform(X_train[['gender','city']])\n",
    "\n",
    "# also the test data\n",
    "X_test_gender_city = ohe.fit_transform(X_test[['gender','city']])\n",
    "\n",
    "X_train_gender_city.shape"
   ]
  },
  {
   "cell_type": "code",
   "execution_count": null,
   "id": "1e9270a1-b13e-47ed-967b-93c8ceda43d4",
   "metadata": {},
   "outputs": [],
   "source": [
    "X_train_transformed = np.concatenate((X_train_gender_city,X_train_cough),axis=1)\n",
    "# also the test data\n",
    "X_test_transformed = np.concatenate((X_test_gender_city,X_test_cough),axis=1)"
   ]
  },
  {
   "cell_type": "markdown",
   "id": "4173b02d-161c-4a5f-be70-788013b32870",
   "metadata": {},
   "source": [
    "### COMBINE ALL OF THIS.....SIMPLE IS BETTER THAN COMPLEX!!!"
   ]
  },
  {
   "cell_type": "code",
   "execution_count": 3,
   "id": "831544fb-c089-48aa-8669-519ca63e8a09",
   "metadata": {
    "tags": []
   },
   "outputs": [
    {
     "ename": "NameError",
     "evalue": "name 'OrdinalEncoder' is not defined",
     "output_type": "error",
     "traceback": [
      "\u001b[1;31m---------------------------------------------------------------------------\u001b[0m",
      "\u001b[1;31mNameError\u001b[0m                                 Traceback (most recent call last)",
      "\u001b[1;32m~\\AppData\\Local\\Temp/ipykernel_12236/550189626.py\u001b[0m in \u001b[0;36m<cell line: 3>\u001b[1;34m()\u001b[0m\n\u001b[0;32m      5\u001b[0m     \u001b[1;33m(\u001b[0m\u001b[1;34m'cat'\u001b[0m\u001b[1;33m,\u001b[0m \u001b[0mSimpleImputer\u001b[0m\u001b[1;33m(\u001b[0m\u001b[0mstrategy\u001b[0m\u001b[1;33m=\u001b[0m\u001b[1;34m'most_frequent'\u001b[0m\u001b[1;33m)\u001b[0m\u001b[1;33m,\u001b[0m \u001b[1;33m[\u001b[0m\u001b[1;34m'CON_NAME'\u001b[0m\u001b[1;33m]\u001b[0m\u001b[1;33m)\u001b[0m\u001b[1;33m,\u001b[0m\u001b[1;33m\u001b[0m\u001b[1;33m\u001b[0m\u001b[0m\n\u001b[0;32m      6\u001b[0m     \u001b[1;33m(\u001b[0m\u001b[1;34m'tnf1'\u001b[0m\u001b[1;33m,\u001b[0m\u001b[0mSimpleImputer\u001b[0m\u001b[1;33m(\u001b[0m\u001b[1;33m)\u001b[0m\u001b[1;33m,\u001b[0m\u001b[1;33m[\u001b[0m\u001b[1;34m'fever'\u001b[0m\u001b[1;33m]\u001b[0m\u001b[1;33m)\u001b[0m\u001b[1;33m,\u001b[0m\u001b[1;33m\u001b[0m\u001b[1;33m\u001b[0m\u001b[0m\n\u001b[1;32m----> 7\u001b[1;33m     \u001b[1;33m(\u001b[0m\u001b[1;34m'tnf2'\u001b[0m\u001b[1;33m,\u001b[0m\u001b[0mOrdinalEncoder\u001b[0m\u001b[1;33m(\u001b[0m\u001b[0mcategories\u001b[0m\u001b[1;33m=\u001b[0m\u001b[1;33m[\u001b[0m\u001b[1;33m[\u001b[0m\u001b[1;34m'Mild'\u001b[0m\u001b[1;33m,\u001b[0m\u001b[1;34m'Strong'\u001b[0m\u001b[1;33m]\u001b[0m\u001b[1;33m]\u001b[0m\u001b[1;33m)\u001b[0m\u001b[1;33m,\u001b[0m\u001b[1;33m[\u001b[0m\u001b[1;34m'cough'\u001b[0m\u001b[1;33m]\u001b[0m\u001b[1;33m)\u001b[0m\u001b[1;33m,\u001b[0m\u001b[1;33m\u001b[0m\u001b[1;33m\u001b[0m\u001b[0m\n\u001b[0m\u001b[0;32m      8\u001b[0m     \u001b[1;33m(\u001b[0m\u001b[1;34m'tnf3'\u001b[0m\u001b[1;33m,\u001b[0m\u001b[0mOneHotEncoder\u001b[0m\u001b[1;33m(\u001b[0m\u001b[0msparse\u001b[0m\u001b[1;33m=\u001b[0m\u001b[1;32mFalse\u001b[0m\u001b[1;33m,\u001b[0m\u001b[0mdrop\u001b[0m\u001b[1;33m=\u001b[0m\u001b[1;34m'first'\u001b[0m\u001b[1;33m)\u001b[0m\u001b[1;33m,\u001b[0m\u001b[1;33m[\u001b[0m\u001b[1;34m'gender'\u001b[0m\u001b[1;33m,\u001b[0m\u001b[1;34m'city'\u001b[0m\u001b[1;33m]\u001b[0m\u001b[1;33m)\u001b[0m\u001b[1;33m\u001b[0m\u001b[1;33m\u001b[0m\u001b[0m\n\u001b[0;32m      9\u001b[0m ],   remainder='passthrough')\n",
      "\u001b[1;31mNameError\u001b[0m: name 'OrdinalEncoder' is not defined"
     ]
    }
   ],
   "source": [
    "from sklearn.compose import ColumnTransformer\n",
    "from sklearn.impute import SimpleImputer\n",
    "transformer = ColumnTransformer(transformers=[\n",
    "    ('num', SimpleImputer(strategy='median'), ['COL_NAME', 'ANOTHER_COL_NAME']),\n",
    "    ('cat', SimpleImputer(strategy='most_frequent'), ['CON_NAME']),\n",
    "    ('tnf1',SimpleImputer(),['fever']),\n",
    "    ('tnf2',OrdinalEncoder(categories=[['Mild','Strong']]),['cough']),\n",
    "    ('tnf3',OneHotEncoder(sparse=False,drop='first'),['gender','city'])\n",
    "    ],\n",
    "    remainder='passthrough')\n",
    "\n",
    "X_train_all_transformed = transformer.fit_transform(X_train).shape\n",
    "X_test_all_transformed = transformer.transform(X_test).shape"
   ]
  },
  {
   "cell_type": "markdown",
   "id": "29f257fc-8fd1-4aa3-a2ec-9a9e3ec0150a",
   "metadata": {},
   "source": [
    "## MODEL BUILDING AND TESTING"
   ]
  },
  {
   "cell_type": "markdown",
   "id": "71f4b61a-2883-436c-810b-18db8554ff19",
   "metadata": {},
   "source": [
    "### XgBoost"
   ]
  },
  {
   "cell_type": "markdown",
   "id": "74755f3e-3fd5-4f25-8fb8-6c251344dfc7",
   "metadata": {},
   "source": [
    "### CatBoost"
   ]
  },
  {
   "cell_type": "markdown",
   "id": "a0c70ce1-4e11-4b77-abbd-6466d4c90232",
   "metadata": {},
   "source": [
    "### LightGBM"
   ]
  },
  {
   "cell_type": "markdown",
   "id": "d3e31f35-825c-4d40-896f-4619728bf6c5",
   "metadata": {},
   "source": [
    "### FairGBM"
   ]
  },
  {
   "cell_type": "markdown",
   "id": "14348518-5bbc-456c-b434-873d6f76f7a7",
   "metadata": {},
   "source": [
    "### Random Forest"
   ]
  },
  {
   "cell_type": "markdown",
   "id": "017b10b7-3d86-4a99-9345-00016494ff6a",
   "metadata": {},
   "source": [
    "## SUBMISSION"
   ]
  },
  {
   "cell_type": "code",
   "execution_count": null,
   "id": "a159cc6b-5a6b-45d2-8998-2f092492b2b2",
   "metadata": {},
   "outputs": [],
   "source": []
  }
 ],
 "metadata": {
  "kernelspec": {
   "display_name": "Python 3 (ipykernel)",
   "language": "python",
   "name": "python3"
  },
  "language_info": {
   "codemirror_mode": {
    "name": "ipython",
    "version": 3
   },
   "file_extension": ".py",
   "mimetype": "text/x-python",
   "name": "python",
   "nbconvert_exporter": "python",
   "pygments_lexer": "ipython3",
   "version": "3.9.7"
  }
 },
 "nbformat": 4,
 "nbformat_minor": 5
}
